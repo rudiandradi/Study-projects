{
 "cells": [
  {
   "cell_type": "markdown",
   "metadata": {},
   "source": [
    "# 1) ⭐️Задание со звёздочкой!⭐️\n",
    "Загрузите данные из Google Sheets, которые находятся в папке (table - Лист1) при помощи библиотеки requests. Посчитайте процент мужчин среди всех посетителей сайта, округлите ответ до целых.\n",
    "Воспользуйтесь этим кодом, чтобы перевести данные из реквеста в пандас"
   ]
  },
  {
   "cell_type": "code",
   "execution_count": 14,
   "metadata": {},
   "outputs": [],
   "source": [
    "import pandas as pd\n",
    "import os\n",
    "from io import BytesIO\n",
    "import requests"
   ]
  },
  {
   "cell_type": "code",
   "execution_count": 15,
   "metadata": {},
   "outputs": [],
   "source": [
    "url = 'http://docs.google.com/spreadsheets/d/e/2PACX-1vRN2eupfq_EOKF7LH53x3wL8McStkF0NvFDIARP-GbteTt0CV7DEaXLvFr1_88OCX0kjsYhTYicxOHM'"
   ]
  },
  {
   "cell_type": "code",
   "execution_count": 16,
   "metadata": {},
   "outputs": [],
   "source": [
    "req = requests.get(url)"
   ]
  },
  {
   "cell_type": "code",
   "execution_count": 17,
   "metadata": {},
   "outputs": [],
   "source": [
    "data = req.content\n",
    "\n",
    "df = pd.read_csv(BytesIO(data))"
   ]
  },
  {
   "cell_type": "code",
   "execution_count": 18,
   "metadata": {},
   "outputs": [
    {
     "data": {
      "text/html": [
       "<div>\n",
       "<style scoped>\n",
       "    .dataframe tbody tr th:only-of-type {\n",
       "        vertical-align: middle;\n",
       "    }\n",
       "\n",
       "    .dataframe tbody tr th {\n",
       "        vertical-align: top;\n",
       "    }\n",
       "\n",
       "    .dataframe thead th {\n",
       "        text-align: right;\n",
       "    }\n",
       "</style>\n",
       "<table border=\"1\" class=\"dataframe\">\n",
       "  <thead>\n",
       "    <tr style=\"text-align: right;\">\n",
       "      <th></th>\n",
       "      <th></th>\n",
       "      <th></th>\n",
       "      <th></th>\n",
       "      <th></th>\n",
       "      <th>&lt;!DOCTYPE html&gt;&lt;html lang=\"ru\"&gt;&lt;head&gt;&lt;meta name=\"description\" content=\"Веб-редактор текста</th>\n",
       "      <th>презентаций и таблиц\"&gt;&lt;meta name=\"viewport\" content=\"width=device-width</th>\n",
       "      <th>initial-scale=1.0</th>\n",
       "      <th>maximum-scale=1.0</th>\n",
       "      <th>minimum-scale=1.0</th>\n",
       "      <th>user-scalable=0\"&gt;&lt;link rel=\"shortcut icon\" href=\"//docs.google.com/favicon.ico\"&gt;&lt;title&gt;Страница не найдена&lt;/title&gt;&lt;meta name=\"referrer\" content=\"origin\"&gt;&lt;link href=\"//fonts.googleapis.com/css?family=Product+Sans\" rel=\"stylesheet\" type=\"text/css\"&gt;&lt;style nonce=\"CDzNmOI7DtWNMDjrMyEq2A\"&gt;/* Copyright 2020 Google Inc. All Rights Reserved. */</th>\n",
       "    </tr>\n",
       "  </thead>\n",
       "  <tbody>\n",
       "    <tr>\n",
       "      <th>.goog-inline-block{position:relative;display:-moz-inline-box;display:inline-block}* html .goog-inline-block{display:inline}*:first-child+html .goog-inline-block{display:inline}#drive-logo{margin:18px 0;position:absolute;white-space:nowrap}.docs-drivelogo-img{background-image:url('//ssl.gstatic.com/images/branding/googlelogo/1x/googlelogo_color_116x41dp.png');background-size:116px 41px;display:inline-block;height:41px;vertical-align:bottom;width:116px}.docs-drivelogo-text{color:#000;display:inline-block;opacity:0.54;text-decoration:none;font-family:'Product Sans'</th>\n",
       "      <th>Arial</th>\n",
       "      <th>Helvetica</th>\n",
       "      <th>sans-serif;font-size:32px;text-rendering:optimizeLegibility;position:relative;top:-6px;left:-7px;-webkit-font-smoothing:antialiased;-moz-osx-font-smoothing:grayscale}@media (-webkit-min-device-pixel-ratio:1.5)</th>\n",
       "      <th>(min-resolution:144dpi){.docs-drivelogo-img{background-image:url('//ssl.gstatic.com/images/branding/googlelogo/2x/googlelogo_color_116x41dp.png')}}&lt;/style&gt;&lt;style type=\"text/css\" nonce=\"CDzNmOI7DtWNMDjrMyEq2A\"&gt;body {background-color: #fff; font-family: Arial</th>\n",
       "      <td>sans-serif; font-size: 13px; margin: 0; paddin...</td>\n",
       "      <td>a:link</td>\n",
       "      <td>a:visited {color: #112ABB;}&lt;/style&gt;&lt;style typ...</td>\n",
       "      <td>таблицы</td>\n",
       "      <td>презентации и многое другое</td>\n",
       "      <td>храните их в Интернете и отправляйте другим п...</td>\n",
       "    </tr>\n",
       "  </tbody>\n",
       "</table>\n",
       "</div>"
      ],
      "text/plain": [
       "                                                                                                                                                                         <!DOCTYPE html><html lang=\"ru\"><head><meta name=\"description\" content=\"Веб-редактор текста  \\\n",
       ".goog-inline-block{position:relative;display:-m... Arial Helvetica sans-serif;font-size:32px;text-rendering:optimi... (min-resolution:144dpi){.docs-drivelogo-img{bac...  sans-serif; font-size: 13px; margin: 0; paddin...                                           \n",
       "\n",
       "                                                                                                                                                                          презентаций и таблиц\"><meta name=\"viewport\" content=\"width=device-width  \\\n",
       ".goog-inline-block{position:relative;display:-m... Arial Helvetica sans-serif;font-size:32px;text-rendering:optimi... (min-resolution:144dpi){.docs-drivelogo-img{bac...                                             a:link                         \n",
       "\n",
       "                                                                                                                                                                                                          initial-scale=1.0  \\\n",
       ".goog-inline-block{position:relative;display:-m... Arial Helvetica sans-serif;font-size:32px;text-rendering:optimi... (min-resolution:144dpi){.docs-drivelogo-img{bac...   a:visited {color: #112ABB;}</style><style typ...   \n",
       "\n",
       "                                                                                                                                                                          maximum-scale=1.0  \\\n",
       ".goog-inline-block{position:relative;display:-m... Arial Helvetica sans-serif;font-size:32px;text-rendering:optimi... (min-resolution:144dpi){.docs-drivelogo-img{bac...            таблицы   \n",
       "\n",
       "                                                                                                                                                                                     minimum-scale=1.0  \\\n",
       ".goog-inline-block{position:relative;display:-m... Arial Helvetica sans-serif;font-size:32px;text-rendering:optimi... (min-resolution:144dpi){.docs-drivelogo-img{bac...   презентации и многое другое   \n",
       "\n",
       "                                                                                                                                                                          user-scalable=0\"><link rel=\"shortcut icon\" href=\"//docs.google.com/favicon.ico\"><title>Страница не найдена</title><meta name=\"referrer\" content=\"origin\"><link href=\"//fonts.googleapis.com/css?family=Product+Sans\" rel=\"stylesheet\" type=\"text/css\"><style nonce=\"CDzNmOI7DtWNMDjrMyEq2A\">/* Copyright 2020 Google Inc. All Rights Reserved. */  \n",
       ".goog-inline-block{position:relative;display:-m... Arial Helvetica sans-serif;font-size:32px;text-rendering:optimi... (min-resolution:144dpi){.docs-drivelogo-img{bac...   храните их в Интернете и отправляйте другим п...                                                                                                                                                                                                                                                                                                  "
      ]
     },
     "execution_count": 18,
     "metadata": {},
     "output_type": "execute_result"
    }
   ],
   "source": [
    "df"
   ]
  },
  {
   "cell_type": "code",
   "execution_count": null,
   "metadata": {},
   "outputs": [],
   "source": []
  }
 ],
 "metadata": {
  "kernelspec": {
   "display_name": "Python 3",
   "language": "python",
   "name": "python3"
  },
  "language_info": {
   "codemirror_mode": {
    "name": "ipython",
    "version": 3
   },
   "file_extension": ".py",
   "mimetype": "text/x-python",
   "name": "python",
   "nbconvert_exporter": "python",
   "pygments_lexer": "ipython3",
   "version": "3.8.2"
  }
 },
 "nbformat": 4,
 "nbformat_minor": 4
}
